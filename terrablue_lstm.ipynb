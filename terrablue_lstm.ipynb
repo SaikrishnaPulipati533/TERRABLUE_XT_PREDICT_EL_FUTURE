{
  "nbformat": 4,
  "nbformat_minor": 0,
  "metadata": {
    "kernelspec": {
      "display_name": "Python 3",
      "language": "python",
      "name": "python3"
    },
    "language_info": {
      "codemirror_mode": {
        "name": "ipython",
        "version": 3
      },
      "file_extension": ".py",
      "mimetype": "text/x-python",
      "name": "python",
      "nbconvert_exporter": "python",
      "pygments_lexer": "ipython3",
      "version": "3.7.3"
    },
    "colab": {
      "name": "terrablue_lstm.ipynb",
      "provenance": [],
      "include_colab_link": true
    }
  },
  "cells": [
    {
      "cell_type": "markdown",
      "metadata": {
        "id": "view-in-github",
        "colab_type": "text"
      },
      "source": [
        "<a href=\"https://colab.research.google.com/github/SaikrishnaPulipati533/TERRABLUE_XT_PREDICT_EL_FUTURE/blob/master/terrablue_lstm.ipynb\" target=\"_parent\"><img src=\"https://colab.research.google.com/assets/colab-badge.svg\" alt=\"Open In Colab\"/></a>"
      ]
    },
    {
      "cell_type": "code",
      "metadata": {
        "id": "BnfFMCvX1oK0",
        "colab_type": "code",
        "colab": {},
        "outputId": "d4264f64-9428-4ddf-def4-334bcb4fb620"
      },
      "source": [
        "import warnings\n",
        "warnings.filterwarnings('ignore')\n",
        "import pandas as pd\n",
        "import numpy as np\n",
        "import math\n",
        "\n",
        "from keras.models import Sequential\n",
        "from keras.layers.recurrent import LSTM\n",
        "from keras.layers.core import Dense, Activation, Dropout\n",
        "from sklearn.preprocessing import MinMaxScaler,StandardScaler\n",
        "from sklearn.metrics import mean_squared_error\n",
        "from sklearn.utils import shuffle"
      ],
      "execution_count": 0,
      "outputs": [
        {
          "output_type": "stream",
          "text": [
            "Using TensorFlow backend.\n"
          ],
          "name": "stderr"
        }
      ]
    },
    {
      "cell_type": "code",
      "metadata": {
        "id": "GFS6PFTS1oLH",
        "colab_type": "code",
        "colab": {},
        "outputId": "81379f76-d76c-4fa5-9ee6-fb16a1a87d56"
      },
      "source": [
        "file= 'train_csv.csv'\n",
        "data = pd.read_csv(file)\n",
        "data.head()"
      ],
      "execution_count": 0,
      "outputs": [
        {
          "output_type": "execute_result",
          "data": {
            "text/html": [
              "<div>\n",
              "<style scoped>\n",
              "    .dataframe tbody tr th:only-of-type {\n",
              "        vertical-align: middle;\n",
              "    }\n",
              "\n",
              "    .dataframe tbody tr th {\n",
              "        vertical-align: top;\n",
              "    }\n",
              "\n",
              "    .dataframe thead th {\n",
              "        text-align: right;\n",
              "    }\n",
              "</style>\n",
              "<table border=\"1\" class=\"dataframe\">\n",
              "  <thead>\n",
              "    <tr style=\"text-align: right;\">\n",
              "      <th></th>\n",
              "      <th>id</th>\n",
              "      <th>time</th>\n",
              "      <th>feature</th>\n",
              "    </tr>\n",
              "  </thead>\n",
              "  <tbody>\n",
              "    <tr>\n",
              "      <th>0</th>\n",
              "      <td>0</td>\n",
              "      <td>2019-03-19 00:00:00</td>\n",
              "      <td>237.97</td>\n",
              "    </tr>\n",
              "    <tr>\n",
              "      <th>1</th>\n",
              "      <td>1</td>\n",
              "      <td>2019-03-19 00:00:10</td>\n",
              "      <td>57.93</td>\n",
              "    </tr>\n",
              "    <tr>\n",
              "      <th>2</th>\n",
              "      <td>2</td>\n",
              "      <td>2019-03-19 00:00:20</td>\n",
              "      <td>90.53</td>\n",
              "    </tr>\n",
              "    <tr>\n",
              "      <th>3</th>\n",
              "      <td>3</td>\n",
              "      <td>2019-03-19 00:00:30</td>\n",
              "      <td>260.75</td>\n",
              "    </tr>\n",
              "    <tr>\n",
              "      <th>4</th>\n",
              "      <td>4</td>\n",
              "      <td>2019-03-19 00:00:40</td>\n",
              "      <td>49.70</td>\n",
              "    </tr>\n",
              "  </tbody>\n",
              "</table>\n",
              "</div>"
            ],
            "text/plain": [
              "   id                 time  feature\n",
              "0   0  2019-03-19 00:00:00   237.97\n",
              "1   1  2019-03-19 00:00:10    57.93\n",
              "2   2  2019-03-19 00:00:20    90.53\n",
              "3   3  2019-03-19 00:00:30   260.75\n",
              "4   4  2019-03-19 00:00:40    49.70"
            ]
          },
          "metadata": {
            "tags": []
          },
          "execution_count": 2
        }
      ]
    },
    {
      "cell_type": "code",
      "metadata": {
        "id": "cjfxRpnO1oLR",
        "colab_type": "code",
        "colab": {},
        "outputId": "5abb139f-2678-4e1a-8f98-0c62e61c4416"
      },
      "source": [
        "data.shape"
      ],
      "execution_count": 0,
      "outputs": [
        {
          "output_type": "execute_result",
          "data": {
            "text/plain": [
              "(80, 3)"
            ]
          },
          "metadata": {
            "tags": []
          },
          "execution_count": 3
        }
      ]
    },
    {
      "cell_type": "code",
      "metadata": {
        "id": "Z96kEpEv1oLe",
        "colab_type": "code",
        "colab": {},
        "outputId": "09364072-7ea5-46f9-b126-bd6a744f82c8"
      },
      "source": [
        "ts_data=data.iloc[:,2]\n",
        "ts_data.head()"
      ],
      "execution_count": 0,
      "outputs": [
        {
          "output_type": "execute_result",
          "data": {
            "text/plain": [
              "0    237.97\n",
              "1     57.93\n",
              "2     90.53\n",
              "3    260.75\n",
              "4     49.70\n",
              "Name: feature, dtype: float64"
            ]
          },
          "metadata": {
            "tags": []
          },
          "execution_count": 4
        }
      ]
    },
    {
      "cell_type": "code",
      "metadata": {
        "id": "lUhlVAek1oLn",
        "colab_type": "code",
        "colab": {}
      },
      "source": [
        "scaler = MinMaxScaler(feature_range = (0, 1))\n",
        "dataset = scaler.fit_transform(pd.DataFrame(ts_data))\n",
        "# MinMaxScaler needs the data in 2D array , thats why the syntactical jugglery above"
      ],
      "execution_count": 0,
      "outputs": []
    },
    {
      "cell_type": "code",
      "metadata": {
        "id": "S4r9TD231oLx",
        "colab_type": "code",
        "colab": {},
        "outputId": "781e1522-8802-4c76-b04b-fff15a4b365b"
      },
      "source": [
        "dataset.shape"
      ],
      "execution_count": 0,
      "outputs": [
        {
          "output_type": "execute_result",
          "data": {
            "text/plain": [
              "(80, 1)"
            ]
          },
          "metadata": {
            "tags": []
          },
          "execution_count": 6
        }
      ]
    },
    {
      "cell_type": "code",
      "metadata": {
        "id": "-y3ZhXRt1oL6",
        "colab_type": "code",
        "colab": {}
      },
      "source": [
        "train_fraction = 0.60\n",
        "\n",
        "train_size = int(len(dataset) * train_fraction)\n",
        "test_size = len(dataset) - train_size\n",
        "train, test = dataset[0:train_size, :], dataset[train_size:len(dataset), :]"
      ],
      "execution_count": 0,
      "outputs": []
    },
    {
      "cell_type": "code",
      "metadata": {
        "id": "TDX7FtHT1oML",
        "colab_type": "code",
        "colab": {},
        "outputId": "7beeb434-6781-45fb-a511-49c68765c96e"
      },
      "source": [
        "print(train_size, test_size)"
      ],
      "execution_count": 0,
      "outputs": [
        {
          "output_type": "stream",
          "text": [
            "48 32\n"
          ],
          "name": "stdout"
        }
      ]
    },
    {
      "cell_type": "code",
      "metadata": {
        "id": "4lWYW2_o1oMV",
        "colab_type": "code",
        "colab": {}
      },
      "source": [
        "def create_dataset(dataset, window_size = 1):\n",
        "    data_X, data_Y = [], []\n",
        "    for i in range(len(dataset) - window_size - 1):\n",
        "        a = dataset[i:(i + window_size), 0]\n",
        "        data_X.append(a)\n",
        "        data_Y.append(dataset[i + window_size, 0])\n",
        "    return(np.array(data_X), np.array(data_Y))"
      ],
      "execution_count": 0,
      "outputs": []
    },
    {
      "cell_type": "code",
      "metadata": {
        "id": "MQbqwILm1oMg",
        "colab_type": "code",
        "colab": {},
        "outputId": "39ae830b-9e57-4390-eca4-d821b18a2d37"
      },
      "source": [
        "window_size = 10\n",
        "\n",
        "train_X, train_Y = create_dataset(train, window_size)\n",
        "test_X, test_Y = create_dataset(test, window_size)\n",
        "\n",
        "print(\"Original training data shape:\")\n",
        "print(train_X.shape)"
      ],
      "execution_count": 0,
      "outputs": [
        {
          "output_type": "stream",
          "text": [
            "Original training data shape:\n",
            "(37, 10)\n"
          ],
          "name": "stdout"
        }
      ]
    },
    {
      "cell_type": "code",
      "metadata": {
        "id": "bUPqoFcJ1oMp",
        "colab_type": "code",
        "colab": {},
        "outputId": "54ce0083-4a91-4298-834f-04553b2d1c03"
      },
      "source": [
        "range(len(dataset) - window_size - 1)"
      ],
      "execution_count": 0,
      "outputs": [
        {
          "output_type": "execute_result",
          "data": {
            "text/plain": [
              "range(0, 69)"
            ]
          },
          "metadata": {
            "tags": []
          },
          "execution_count": 11
        }
      ]
    },
    {
      "cell_type": "code",
      "metadata": {
        "id": "EJ0snA3k1oMy",
        "colab_type": "code",
        "colab": {},
        "outputId": "03a53cad-f6d0-431b-8598-c2bd8bb2e125"
      },
      "source": [
        "pd.DataFrame(train_X).head()"
      ],
      "execution_count": 0,
      "outputs": [
        {
          "output_type": "execute_result",
          "data": {
            "text/html": [
              "<div>\n",
              "<style scoped>\n",
              "    .dataframe tbody tr th:only-of-type {\n",
              "        vertical-align: middle;\n",
              "    }\n",
              "\n",
              "    .dataframe tbody tr th {\n",
              "        vertical-align: top;\n",
              "    }\n",
              "\n",
              "    .dataframe thead th {\n",
              "        text-align: right;\n",
              "    }\n",
              "</style>\n",
              "<table border=\"1\" class=\"dataframe\">\n",
              "  <thead>\n",
              "    <tr style=\"text-align: right;\">\n",
              "      <th></th>\n",
              "      <th>0</th>\n",
              "      <th>1</th>\n",
              "      <th>2</th>\n",
              "      <th>3</th>\n",
              "      <th>4</th>\n",
              "      <th>5</th>\n",
              "      <th>6</th>\n",
              "      <th>7</th>\n",
              "      <th>8</th>\n",
              "      <th>9</th>\n",
              "    </tr>\n",
              "  </thead>\n",
              "  <tbody>\n",
              "    <tr>\n",
              "      <th>0</th>\n",
              "      <td>0.483116</td>\n",
              "      <td>0.081564</td>\n",
              "      <td>0.154273</td>\n",
              "      <td>0.533924</td>\n",
              "      <td>0.063208</td>\n",
              "      <td>0.626104</td>\n",
              "      <td>0.291931</td>\n",
              "      <td>0.044228</td>\n",
              "      <td>0.029552</td>\n",
              "      <td>0.411522</td>\n",
              "    </tr>\n",
              "    <tr>\n",
              "      <th>1</th>\n",
              "      <td>0.081564</td>\n",
              "      <td>0.154273</td>\n",
              "      <td>0.533924</td>\n",
              "      <td>0.063208</td>\n",
              "      <td>0.626104</td>\n",
              "      <td>0.291931</td>\n",
              "      <td>0.044228</td>\n",
              "      <td>0.029552</td>\n",
              "      <td>0.411522</td>\n",
              "      <td>0.323111</td>\n",
              "    </tr>\n",
              "    <tr>\n",
              "      <th>2</th>\n",
              "      <td>0.154273</td>\n",
              "      <td>0.533924</td>\n",
              "      <td>0.063208</td>\n",
              "      <td>0.626104</td>\n",
              "      <td>0.291931</td>\n",
              "      <td>0.044228</td>\n",
              "      <td>0.029552</td>\n",
              "      <td>0.411522</td>\n",
              "      <td>0.323111</td>\n",
              "      <td>0.116848</td>\n",
              "    </tr>\n",
              "    <tr>\n",
              "      <th>3</th>\n",
              "      <td>0.533924</td>\n",
              "      <td>0.063208</td>\n",
              "      <td>0.626104</td>\n",
              "      <td>0.291931</td>\n",
              "      <td>0.044228</td>\n",
              "      <td>0.029552</td>\n",
              "      <td>0.411522</td>\n",
              "      <td>0.323111</td>\n",
              "      <td>0.116848</td>\n",
              "      <td>0.582345</td>\n",
              "    </tr>\n",
              "    <tr>\n",
              "      <th>4</th>\n",
              "      <td>0.063208</td>\n",
              "      <td>0.626104</td>\n",
              "      <td>0.291931</td>\n",
              "      <td>0.044228</td>\n",
              "      <td>0.029552</td>\n",
              "      <td>0.411522</td>\n",
              "      <td>0.323111</td>\n",
              "      <td>0.116848</td>\n",
              "      <td>0.582345</td>\n",
              "      <td>0.226046</td>\n",
              "    </tr>\n",
              "  </tbody>\n",
              "</table>\n",
              "</div>"
            ],
            "text/plain": [
              "          0         1         2         3         4         5         6  \\\n",
              "0  0.483116  0.081564  0.154273  0.533924  0.063208  0.626104  0.291931   \n",
              "1  0.081564  0.154273  0.533924  0.063208  0.626104  0.291931  0.044228   \n",
              "2  0.154273  0.533924  0.063208  0.626104  0.291931  0.044228  0.029552   \n",
              "3  0.533924  0.063208  0.626104  0.291931  0.044228  0.029552  0.411522   \n",
              "4  0.063208  0.626104  0.291931  0.044228  0.029552  0.411522  0.323111   \n",
              "\n",
              "          7         8         9  \n",
              "0  0.044228  0.029552  0.411522  \n",
              "1  0.029552  0.411522  0.323111  \n",
              "2  0.411522  0.323111  0.116848  \n",
              "3  0.323111  0.116848  0.582345  \n",
              "4  0.116848  0.582345  0.226046  "
            ]
          },
          "metadata": {
            "tags": []
          },
          "execution_count": 12
        }
      ]
    },
    {
      "cell_type": "code",
      "metadata": {
        "id": "eGHi_9kh1oM6",
        "colab_type": "code",
        "colab": {},
        "outputId": "27e24546-0c83-4e25-8013-77a5cb6928b7"
      },
      "source": [
        "# shape of data should be : (num_obs, feature_dimension, sequence_length)\n",
        "train_X = np.reshape(train_X, (train_X.shape[0], 1, train_X.shape[1]))\n",
        "test_X = np.reshape(test_X, (test_X.shape[0], 1, test_X.shape[1]))\n",
        "\n",
        "print(\"New training data shape:\")\n",
        "print(train_X.shape)"
      ],
      "execution_count": 0,
      "outputs": [
        {
          "output_type": "stream",
          "text": [
            "New training data shape:\n",
            "(37, 1, 10)\n"
          ],
          "name": "stdout"
        }
      ]
    },
    {
      "cell_type": "code",
      "metadata": {
        "id": "qW56cGGL1oNF",
        "colab_type": "code",
        "colab": {},
        "outputId": "7cd98452-8003-4f76-b885-8e34685bcbb9"
      },
      "source": [
        "# input shape : (feature_dimension, seq_length)\n",
        "model = Sequential()\n",
        "    \n",
        "model.add(LSTM(4, \n",
        "               input_shape = (1, window_size)))\n",
        "model.add(Dense(1))\n",
        "model.compile(loss = \"mean_squared_error\", \n",
        "              optimizer = \"adam\")\n",
        "\n",
        "model.fit(train_X, \n",
        "          train_Y, \n",
        "          epochs = 100, \n",
        "          batch_size = 1, \n",
        "          verbose = 2)"
      ],
      "execution_count": 0,
      "outputs": [
        {
          "output_type": "stream",
          "text": [
            "Epoch 1/100\n",
            " - 1s - loss: 0.1226\n",
            "Epoch 2/100\n",
            " - 0s - loss: 0.0876\n",
            "Epoch 3/100\n",
            " - 0s - loss: 0.0667\n",
            "Epoch 4/100\n",
            " - 0s - loss: 0.0540\n",
            "Epoch 5/100\n",
            " - 0s - loss: 0.0453\n",
            "Epoch 6/100\n",
            " - 0s - loss: 0.0406\n",
            "Epoch 7/100\n",
            " - 0s - loss: 0.0378\n",
            "Epoch 8/100\n",
            " - 0s - loss: 0.0367\n",
            "Epoch 9/100\n",
            " - 0s - loss: 0.0355\n",
            "Epoch 10/100\n",
            " - 0s - loss: 0.0347\n",
            "Epoch 11/100\n",
            " - 0s - loss: 0.0340\n",
            "Epoch 12/100\n",
            " - 0s - loss: 0.0335\n",
            "Epoch 13/100\n",
            " - 0s - loss: 0.0332\n",
            "Epoch 14/100\n",
            " - 0s - loss: 0.0327\n",
            "Epoch 15/100\n",
            " - 0s - loss: 0.0323\n",
            "Epoch 16/100\n",
            " - 0s - loss: 0.0317\n",
            "Epoch 17/100\n",
            " - 0s - loss: 0.0313\n",
            "Epoch 18/100\n",
            " - 0s - loss: 0.0308\n",
            "Epoch 19/100\n",
            " - 0s - loss: 0.0304\n",
            "Epoch 20/100\n",
            " - 0s - loss: 0.0299\n",
            "Epoch 21/100\n",
            " - 0s - loss: 0.0297\n",
            "Epoch 22/100\n",
            " - 0s - loss: 0.0292\n",
            "Epoch 23/100\n",
            " - 0s - loss: 0.0288\n",
            "Epoch 24/100\n",
            " - 0s - loss: 0.0284\n",
            "Epoch 25/100\n",
            " - 0s - loss: 0.0278\n",
            "Epoch 26/100\n",
            " - 0s - loss: 0.0275\n",
            "Epoch 27/100\n",
            " - 0s - loss: 0.0273\n",
            "Epoch 28/100\n",
            " - 0s - loss: 0.0267\n",
            "Epoch 29/100\n",
            " - 0s - loss: 0.0267\n",
            "Epoch 30/100\n",
            " - 0s - loss: 0.0260\n",
            "Epoch 31/100\n",
            " - 0s - loss: 0.0255\n",
            "Epoch 32/100\n",
            " - 0s - loss: 0.0253\n",
            "Epoch 33/100\n",
            " - 0s - loss: 0.0246\n",
            "Epoch 34/100\n",
            " - 0s - loss: 0.0247\n",
            "Epoch 35/100\n",
            " - 0s - loss: 0.0240\n",
            "Epoch 36/100\n",
            " - 0s - loss: 0.0237\n",
            "Epoch 37/100\n",
            " - 0s - loss: 0.0234\n",
            "Epoch 38/100\n",
            " - 0s - loss: 0.0231\n",
            "Epoch 39/100\n",
            " - 0s - loss: 0.0227\n",
            "Epoch 40/100\n",
            " - 0s - loss: 0.0224\n",
            "Epoch 41/100\n",
            " - 0s - loss: 0.0220\n",
            "Epoch 42/100\n",
            " - 0s - loss: 0.0218\n",
            "Epoch 43/100\n",
            " - 0s - loss: 0.0215\n",
            "Epoch 44/100\n",
            " - 0s - loss: 0.0213\n",
            "Epoch 45/100\n",
            " - 0s - loss: 0.0211\n",
            "Epoch 46/100\n",
            " - 0s - loss: 0.0206\n",
            "Epoch 47/100\n",
            " - 0s - loss: 0.0203\n",
            "Epoch 48/100\n",
            " - 0s - loss: 0.0202\n",
            "Epoch 49/100\n",
            " - 0s - loss: 0.0201\n",
            "Epoch 50/100\n",
            " - 0s - loss: 0.0198\n",
            "Epoch 51/100\n",
            " - 0s - loss: 0.0195\n",
            "Epoch 52/100\n",
            " - 0s - loss: 0.0193\n",
            "Epoch 53/100\n",
            " - 0s - loss: 0.0192\n",
            "Epoch 54/100\n",
            " - 0s - loss: 0.0190\n",
            "Epoch 55/100\n",
            " - 0s - loss: 0.0188\n",
            "Epoch 56/100\n",
            " - 0s - loss: 0.0185\n",
            "Epoch 57/100\n",
            " - 0s - loss: 0.0182\n",
            "Epoch 58/100\n",
            " - 0s - loss: 0.0182\n",
            "Epoch 59/100\n",
            " - 0s - loss: 0.0178\n",
            "Epoch 60/100\n",
            " - 0s - loss: 0.0179\n",
            "Epoch 61/100\n",
            " - 0s - loss: 0.0175\n",
            "Epoch 62/100\n",
            " - 0s - loss: 0.0174\n",
            "Epoch 63/100\n",
            " - 0s - loss: 0.0172\n",
            "Epoch 64/100\n",
            " - 0s - loss: 0.0172\n",
            "Epoch 65/100\n",
            " - 0s - loss: 0.0172\n",
            "Epoch 66/100\n",
            " - 0s - loss: 0.0170\n",
            "Epoch 67/100\n",
            " - 0s - loss: 0.0168\n",
            "Epoch 68/100\n",
            " - 0s - loss: 0.0167\n",
            "Epoch 69/100\n",
            " - 0s - loss: 0.0166\n",
            "Epoch 70/100\n",
            " - 0s - loss: 0.0163\n",
            "Epoch 71/100\n",
            " - 0s - loss: 0.0163\n",
            "Epoch 72/100\n",
            " - 0s - loss: 0.0161\n",
            "Epoch 73/100\n",
            " - 0s - loss: 0.0160\n",
            "Epoch 74/100\n",
            " - 0s - loss: 0.0159\n",
            "Epoch 75/100\n",
            " - 0s - loss: 0.0160\n",
            "Epoch 76/100\n",
            " - 0s - loss: 0.0159\n",
            "Epoch 77/100\n",
            " - 0s - loss: 0.0157\n",
            "Epoch 78/100\n",
            " - 0s - loss: 0.0156\n",
            "Epoch 79/100\n",
            " - 0s - loss: 0.0156\n",
            "Epoch 80/100\n",
            " - 0s - loss: 0.0154\n",
            "Epoch 81/100\n",
            " - 0s - loss: 0.0154\n",
            "Epoch 82/100\n",
            " - 0s - loss: 0.0152\n",
            "Epoch 83/100\n",
            " - 0s - loss: 0.0152\n",
            "Epoch 84/100\n",
            " - 0s - loss: 0.0155\n",
            "Epoch 85/100\n",
            " - 0s - loss: 0.0153\n",
            "Epoch 86/100\n",
            " - 0s - loss: 0.0149\n",
            "Epoch 87/100\n",
            " - 0s - loss: 0.0149\n",
            "Epoch 88/100\n",
            " - 0s - loss: 0.0149\n",
            "Epoch 89/100\n",
            " - 0s - loss: 0.0148\n",
            "Epoch 90/100\n",
            " - 0s - loss: 0.0148\n",
            "Epoch 91/100\n",
            " - 0s - loss: 0.0148\n",
            "Epoch 92/100\n",
            " - 0s - loss: 0.0149\n",
            "Epoch 93/100\n",
            " - 0s - loss: 0.0147\n",
            "Epoch 94/100\n",
            " - 0s - loss: 0.0146\n",
            "Epoch 95/100\n",
            " - 0s - loss: 0.0145\n",
            "Epoch 96/100\n",
            " - 0s - loss: 0.0149\n",
            "Epoch 97/100\n",
            " - 0s - loss: 0.0147\n",
            "Epoch 98/100\n",
            " - 0s - loss: 0.0145\n",
            "Epoch 99/100\n",
            " - 0s - loss: 0.0148\n",
            "Epoch 100/100\n",
            " - 0s - loss: 0.0151\n"
          ],
          "name": "stdout"
        },
        {
          "output_type": "execute_result",
          "data": {
            "text/plain": [
              "<keras.callbacks.callbacks.History at 0x245c7a02828>"
            ]
          },
          "metadata": {
            "tags": []
          },
          "execution_count": 14
        }
      ]
    },
    {
      "cell_type": "code",
      "metadata": {
        "id": "HEmQQhw21oNN",
        "colab_type": "code",
        "colab": {}
      },
      "source": [
        "# Make predictions on the original scale of the data.\n",
        "pred = scaler.inverse_transform(model.predict(train_X))\n",
        "\n",
        "# Prepare Y data to also be on the original scale for interpretability.\n",
        "orig_data = scaler.inverse_transform([train_Y])\n",
        "\n",
        "# Calculate RMSE.\n",
        "score_test = np.sqrt(mean_squared_error(orig_data[0], pred[:, 0]))"
      ],
      "execution_count": 0,
      "outputs": []
    },
    {
      "cell_type": "code",
      "metadata": {
        "id": "3znY4hDS1oNW",
        "colab_type": "code",
        "colab": {},
        "outputId": "05c5d3bb-91da-4a46-b122-33c0459add02"
      },
      "source": [
        "orig_data[0]"
      ],
      "execution_count": 0,
      "outputs": [
        {
          "output_type": "execute_result",
          "data": {
            "text/plain": [
              "array([166.23,  73.75, 282.46, 122.71,  32.04,  40.73,  55.06,  46.4 ,\n",
              "        54.46,  29.97,  40.43,  21.36,  46.59,  43.11,  55.62,  27.36,\n",
              "        50.94, 116.61,  91.8 , 198.32, 326.76, 266.69, 205.95, 149.42,\n",
              "       233.22,  63.63,  89.77, 255.79, 161.08, 123.41, 239.69, 108.12,\n",
              "        94.31, 224.3 , 184.75, 113.74, 146.06])"
            ]
          },
          "metadata": {
            "tags": []
          },
          "execution_count": 20
        }
      ]
    },
    {
      "cell_type": "code",
      "metadata": {
        "id": "WUKBLmrg1oNh",
        "colab_type": "code",
        "colab": {},
        "outputId": "f5a5015a-105d-4c41-b4ab-634281db8acf"
      },
      "source": [
        "#print(\"Training data score: \",  score_train)\n",
        "print(\"Test data score: \",  score_test)"
      ],
      "execution_count": 0,
      "outputs": [
        {
          "output_type": "stream",
          "text": [
            "Test data score:  53.16491659707865\n"
          ],
          "name": "stdout"
        }
      ]
    },
    {
      "cell_type": "code",
      "metadata": {
        "id": "U6nfHa4N1oNp",
        "colab_type": "code",
        "colab": {}
      },
      "source": [
        ""
      ],
      "execution_count": 0,
      "outputs": []
    }
  ]
}