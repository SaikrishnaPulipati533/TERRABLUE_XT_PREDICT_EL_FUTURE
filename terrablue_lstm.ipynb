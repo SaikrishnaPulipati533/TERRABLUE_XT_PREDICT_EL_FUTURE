{
 "cells": [
  {
   "cell_type": "markdown",
   "metadata": {
    "colab_type": "text",
    "id": "view-in-github"
   },
   "source": [
    "<a href=\"https://colab.research.google.com/github/SaikrishnaPulipati533/TERRABLUE_XT_PREDICT_EL_FUTURE/blob/master/terrablue_lstm.ipynb\" target=\"_parent\"><img src=\"https://colab.research.google.com/assets/colab-badge.svg\" alt=\"Open In Colab\"/></a>"
   ]
  },
  {
   "cell_type": "code",
   "execution_count": 12,
   "metadata": {
    "colab": {},
    "colab_type": "code",
    "id": "BnfFMCvX1oK0",
    "outputId": "d4264f64-9428-4ddf-def4-334bcb4fb620"
   },
   "outputs": [],
   "source": [
    "import warnings\n",
    "warnings.filterwarnings('ignore')\n",
    "import pandas as pd\n",
    "import numpy as np\n",
    "import math\n",
    "import matplotlib.pyplot as plt\n",
    "\n",
    "from keras.models import Sequential\n",
    "from keras.layers.recurrent import LSTM\n",
    "from keras.layers.core import Dense, Activation, Dropout\n",
    "from sklearn.preprocessing import MinMaxScaler,StandardScaler\n",
    "from sklearn.metrics import mean_squared_error\n",
    "from sklearn.utils import shuffle"
   ]
  },
  {
   "cell_type": "code",
   "execution_count": 3,
   "metadata": {
    "colab": {},
    "colab_type": "code",
    "id": "GFS6PFTS1oLH",
    "outputId": "81379f76-d76c-4fa5-9ee6-fb16a1a87d56"
   },
   "outputs": [
    {
     "data": {
      "text/html": [
       "<div>\n",
       "<style scoped>\n",
       "    .dataframe tbody tr th:only-of-type {\n",
       "        vertical-align: middle;\n",
       "    }\n",
       "\n",
       "    .dataframe tbody tr th {\n",
       "        vertical-align: top;\n",
       "    }\n",
       "\n",
       "    .dataframe thead th {\n",
       "        text-align: right;\n",
       "    }\n",
       "</style>\n",
       "<table border=\"1\" class=\"dataframe\">\n",
       "  <thead>\n",
       "    <tr style=\"text-align: right;\">\n",
       "      <th></th>\n",
       "      <th>id</th>\n",
       "      <th>time</th>\n",
       "      <th>feature</th>\n",
       "    </tr>\n",
       "  </thead>\n",
       "  <tbody>\n",
       "    <tr>\n",
       "      <th>0</th>\n",
       "      <td>0</td>\n",
       "      <td>2019-03-19 00:00:00</td>\n",
       "      <td>237.97</td>\n",
       "    </tr>\n",
       "    <tr>\n",
       "      <th>1</th>\n",
       "      <td>1</td>\n",
       "      <td>2019-03-19 00:00:10</td>\n",
       "      <td>57.93</td>\n",
       "    </tr>\n",
       "    <tr>\n",
       "      <th>2</th>\n",
       "      <td>2</td>\n",
       "      <td>2019-03-19 00:00:20</td>\n",
       "      <td>90.53</td>\n",
       "    </tr>\n",
       "    <tr>\n",
       "      <th>3</th>\n",
       "      <td>3</td>\n",
       "      <td>2019-03-19 00:00:30</td>\n",
       "      <td>260.75</td>\n",
       "    </tr>\n",
       "    <tr>\n",
       "      <th>4</th>\n",
       "      <td>4</td>\n",
       "      <td>2019-03-19 00:00:40</td>\n",
       "      <td>49.70</td>\n",
       "    </tr>\n",
       "  </tbody>\n",
       "</table>\n",
       "</div>"
      ],
      "text/plain": [
       "   id                 time  feature\n",
       "0   0  2019-03-19 00:00:00   237.97\n",
       "1   1  2019-03-19 00:00:10    57.93\n",
       "2   2  2019-03-19 00:00:20    90.53\n",
       "3   3  2019-03-19 00:00:30   260.75\n",
       "4   4  2019-03-19 00:00:40    49.70"
      ]
     },
     "execution_count": 3,
     "metadata": {},
     "output_type": "execute_result"
    }
   ],
   "source": [
    "file= 'train_csv.csv'\n",
    "data = pd.read_csv(file)\n",
    "data.head()"
   ]
  },
  {
   "cell_type": "code",
   "execution_count": 4,
   "metadata": {
    "colab": {},
    "colab_type": "code",
    "id": "cjfxRpnO1oLR",
    "outputId": "5abb139f-2678-4e1a-8f98-0c62e61c4416"
   },
   "outputs": [
    {
     "data": {
      "text/plain": [
       "(80, 3)"
      ]
     },
     "execution_count": 4,
     "metadata": {},
     "output_type": "execute_result"
    }
   ],
   "source": [
    "data.shape"
   ]
  },
  {
   "cell_type": "code",
   "execution_count": 32,
   "metadata": {
    "colab": {},
    "colab_type": "code",
    "id": "Z96kEpEv1oLe",
    "outputId": "09364072-7ea5-46f9-b126-bd6a744f82c8"
   },
   "outputs": [],
   "source": [
    "ts_data=data.iloc[:,2:3].values\n",
    "#ts_data.head()"
   ]
  },
  {
   "cell_type": "code",
   "execution_count": 47,
   "metadata": {},
   "outputs": [
    {
     "data": {
      "text/plain": [
       "array([[237.97],\n",
       "       [ 57.93],\n",
       "       [ 90.53],\n",
       "       [260.75],\n",
       "       [ 49.7 ],\n",
       "       [302.08],\n",
       "       [152.25],\n",
       "       [ 41.19],\n",
       "       [ 34.61],\n",
       "       [205.87],\n",
       "       [166.23],\n",
       "       [ 73.75],\n",
       "       [282.46],\n",
       "       [122.71],\n",
       "       [ 32.04],\n",
       "       [ 40.73],\n",
       "       [ 55.06],\n",
       "       [ 46.4 ],\n",
       "       [ 54.46],\n",
       "       [ 29.97],\n",
       "       [ 40.43],\n",
       "       [ 21.36],\n",
       "       [ 46.59],\n",
       "       [ 43.11],\n",
       "       [ 55.62],\n",
       "       [ 27.36],\n",
       "       [ 50.94],\n",
       "       [116.61],\n",
       "       [ 91.8 ],\n",
       "       [198.32],\n",
       "       [326.76],\n",
       "       [266.69],\n",
       "       [205.95],\n",
       "       [149.42],\n",
       "       [233.22],\n",
       "       [ 63.63],\n",
       "       [ 89.77],\n",
       "       [255.79],\n",
       "       [161.08],\n",
       "       [123.41],\n",
       "       [239.69],\n",
       "       [108.12],\n",
       "       [ 94.31],\n",
       "       [224.3 ],\n",
       "       [184.75],\n",
       "       [113.74],\n",
       "       [146.06],\n",
       "       [326.35],\n",
       "       [126.81],\n",
       "       [192.  ],\n",
       "       [187.7 ],\n",
       "       [194.04],\n",
       "       [293.84],\n",
       "       [201.54],\n",
       "       [123.67],\n",
       "       [260.87],\n",
       "       [ 28.26],\n",
       "       [131.97],\n",
       "       [ 76.73],\n",
       "       [113.35],\n",
       "       [ 67.01],\n",
       "       [ 65.89],\n",
       "       [ 88.47],\n",
       "       [201.17],\n",
       "       [110.79],\n",
       "       [157.37],\n",
       "       [199.37],\n",
       "       [173.72],\n",
       "       [188.69],\n",
       "       [155.62],\n",
       "       [156.46],\n",
       "       [111.91],\n",
       "       [153.83],\n",
       "       [ 83.51],\n",
       "       [401.43],\n",
       "       [469.72],\n",
       "       [406.79],\n",
       "       [128.91],\n",
       "       [ 85.28],\n",
       "       [121.12]])"
      ]
     },
     "execution_count": 47,
     "metadata": {},
     "output_type": "execute_result"
    }
   ],
   "source": [
    "ts_data"
   ]
  },
  {
   "cell_type": "code",
   "execution_count": 33,
   "metadata": {
    "colab": {},
    "colab_type": "code",
    "id": "lUhlVAek1oLn"
   },
   "outputs": [],
   "source": [
    "scaler = MinMaxScaler(feature_range = (0, 1))\n",
    "dataset = scaler.fit_transform(pd.DataFrame(ts_data))\n",
    "# MinMaxScaler needs the data in 2D array , thats why the syntactical jugglery above"
   ]
  },
  {
   "cell_type": "code",
   "execution_count": 34,
   "metadata": {
    "colab": {},
    "colab_type": "code",
    "id": "S4r9TD231oLx",
    "outputId": "781e1522-8802-4c76-b04b-fff15a4b365b"
   },
   "outputs": [
    {
     "data": {
      "text/plain": [
       "(80, 1)"
      ]
     },
     "execution_count": 34,
     "metadata": {},
     "output_type": "execute_result"
    }
   ],
   "source": [
    "dataset.shape"
   ]
  },
  {
   "cell_type": "code",
   "execution_count": 35,
   "metadata": {
    "colab": {},
    "colab_type": "code",
    "id": "-y3ZhXRt1oL6"
   },
   "outputs": [],
   "source": [
    "train_fraction = 0.60\n",
    "\n",
    "train_size = int(len(dataset) * train_fraction)\n",
    "test_size = len(dataset) - train_size\n",
    "train, test = dataset[0:train_size, :], dataset[train_size:len(dataset), :]"
   ]
  },
  {
   "cell_type": "code",
   "execution_count": 36,
   "metadata": {
    "colab": {},
    "colab_type": "code",
    "id": "TDX7FtHT1oML",
    "outputId": "7beeb434-6781-45fb-a511-49c68765c96e"
   },
   "outputs": [
    {
     "name": "stdout",
     "output_type": "stream",
     "text": [
      "48 32\n"
     ]
    }
   ],
   "source": [
    "print(train_size, test_size)"
   ]
  },
  {
   "cell_type": "code",
   "execution_count": 37,
   "metadata": {
    "colab": {},
    "colab_type": "code",
    "id": "4lWYW2_o1oMV"
   },
   "outputs": [],
   "source": [
    "def create_dataset(dataset, window_size = 1):\n",
    "    data_X, data_Y = [], []\n",
    "    for i in range(len(dataset) - window_size - 1):\n",
    "        a = dataset[i:(i + window_size), 0]\n",
    "        data_X.append(a)\n",
    "        data_Y.append(dataset[i + window_size, 0])\n",
    "    return(np.array(data_X), np.array(data_Y))"
   ]
  },
  {
   "cell_type": "code",
   "execution_count": 38,
   "metadata": {
    "colab": {},
    "colab_type": "code",
    "id": "MQbqwILm1oMg",
    "outputId": "39ae830b-9e57-4390-eca4-d821b18a2d37"
   },
   "outputs": [
    {
     "name": "stdout",
     "output_type": "stream",
     "text": [
      "Original training data shape:\n",
      "(37, 10)\n"
     ]
    }
   ],
   "source": [
    "window_size = 10\n",
    "\n",
    "train_X, train_Y = create_dataset(train, window_size)\n",
    "test_X, test_Y = create_dataset(test, window_size)\n",
    "\n",
    "print(\"Original training data shape:\")\n",
    "print(train_X.shape)"
   ]
  },
  {
   "cell_type": "code",
   "execution_count": 39,
   "metadata": {
    "colab": {},
    "colab_type": "code",
    "id": "bUPqoFcJ1oMp",
    "outputId": "54ce0083-4a91-4298-834f-04553b2d1c03"
   },
   "outputs": [
    {
     "data": {
      "text/plain": [
       "range(0, 69)"
      ]
     },
     "execution_count": 39,
     "metadata": {},
     "output_type": "execute_result"
    }
   ],
   "source": [
    "range(len(dataset) - window_size - 1)"
   ]
  },
  {
   "cell_type": "code",
   "execution_count": 40,
   "metadata": {
    "colab": {},
    "colab_type": "code",
    "id": "EJ0snA3k1oMy",
    "outputId": "03a53cad-f6d0-431b-8598-c2bd8bb2e125"
   },
   "outputs": [
    {
     "data": {
      "text/html": [
       "<div>\n",
       "<style scoped>\n",
       "    .dataframe tbody tr th:only-of-type {\n",
       "        vertical-align: middle;\n",
       "    }\n",
       "\n",
       "    .dataframe tbody tr th {\n",
       "        vertical-align: top;\n",
       "    }\n",
       "\n",
       "    .dataframe thead th {\n",
       "        text-align: right;\n",
       "    }\n",
       "</style>\n",
       "<table border=\"1\" class=\"dataframe\">\n",
       "  <thead>\n",
       "    <tr style=\"text-align: right;\">\n",
       "      <th></th>\n",
       "      <th>0</th>\n",
       "      <th>1</th>\n",
       "      <th>2</th>\n",
       "      <th>3</th>\n",
       "      <th>4</th>\n",
       "      <th>5</th>\n",
       "      <th>6</th>\n",
       "      <th>7</th>\n",
       "      <th>8</th>\n",
       "      <th>9</th>\n",
       "    </tr>\n",
       "  </thead>\n",
       "  <tbody>\n",
       "    <tr>\n",
       "      <th>0</th>\n",
       "      <td>0.483116</td>\n",
       "      <td>0.081564</td>\n",
       "      <td>0.154273</td>\n",
       "      <td>0.533924</td>\n",
       "      <td>0.063208</td>\n",
       "      <td>0.626104</td>\n",
       "      <td>0.291931</td>\n",
       "      <td>0.044228</td>\n",
       "      <td>0.029552</td>\n",
       "      <td>0.411522</td>\n",
       "    </tr>\n",
       "    <tr>\n",
       "      <th>1</th>\n",
       "      <td>0.081564</td>\n",
       "      <td>0.154273</td>\n",
       "      <td>0.533924</td>\n",
       "      <td>0.063208</td>\n",
       "      <td>0.626104</td>\n",
       "      <td>0.291931</td>\n",
       "      <td>0.044228</td>\n",
       "      <td>0.029552</td>\n",
       "      <td>0.411522</td>\n",
       "      <td>0.323111</td>\n",
       "    </tr>\n",
       "    <tr>\n",
       "      <th>2</th>\n",
       "      <td>0.154273</td>\n",
       "      <td>0.533924</td>\n",
       "      <td>0.063208</td>\n",
       "      <td>0.626104</td>\n",
       "      <td>0.291931</td>\n",
       "      <td>0.044228</td>\n",
       "      <td>0.029552</td>\n",
       "      <td>0.411522</td>\n",
       "      <td>0.323111</td>\n",
       "      <td>0.116848</td>\n",
       "    </tr>\n",
       "    <tr>\n",
       "      <th>3</th>\n",
       "      <td>0.533924</td>\n",
       "      <td>0.063208</td>\n",
       "      <td>0.626104</td>\n",
       "      <td>0.291931</td>\n",
       "      <td>0.044228</td>\n",
       "      <td>0.029552</td>\n",
       "      <td>0.411522</td>\n",
       "      <td>0.323111</td>\n",
       "      <td>0.116848</td>\n",
       "      <td>0.582345</td>\n",
       "    </tr>\n",
       "    <tr>\n",
       "      <th>4</th>\n",
       "      <td>0.063208</td>\n",
       "      <td>0.626104</td>\n",
       "      <td>0.291931</td>\n",
       "      <td>0.044228</td>\n",
       "      <td>0.029552</td>\n",
       "      <td>0.411522</td>\n",
       "      <td>0.323111</td>\n",
       "      <td>0.116848</td>\n",
       "      <td>0.582345</td>\n",
       "      <td>0.226046</td>\n",
       "    </tr>\n",
       "  </tbody>\n",
       "</table>\n",
       "</div>"
      ],
      "text/plain": [
       "          0         1         2         3         4         5         6  \\\n",
       "0  0.483116  0.081564  0.154273  0.533924  0.063208  0.626104  0.291931   \n",
       "1  0.081564  0.154273  0.533924  0.063208  0.626104  0.291931  0.044228   \n",
       "2  0.154273  0.533924  0.063208  0.626104  0.291931  0.044228  0.029552   \n",
       "3  0.533924  0.063208  0.626104  0.291931  0.044228  0.029552  0.411522   \n",
       "4  0.063208  0.626104  0.291931  0.044228  0.029552  0.411522  0.323111   \n",
       "\n",
       "          7         8         9  \n",
       "0  0.044228  0.029552  0.411522  \n",
       "1  0.029552  0.411522  0.323111  \n",
       "2  0.411522  0.323111  0.116848  \n",
       "3  0.323111  0.116848  0.582345  \n",
       "4  0.116848  0.582345  0.226046  "
      ]
     },
     "execution_count": 40,
     "metadata": {},
     "output_type": "execute_result"
    }
   ],
   "source": [
    "pd.DataFrame(train_X).head()"
   ]
  },
  {
   "cell_type": "code",
   "execution_count": 41,
   "metadata": {
    "colab": {},
    "colab_type": "code",
    "id": "eGHi_9kh1oM6",
    "outputId": "27e24546-0c83-4e25-8013-77a5cb6928b7"
   },
   "outputs": [
    {
     "name": "stdout",
     "output_type": "stream",
     "text": [
      "New training data shape:\n",
      "(37, 1, 10)\n"
     ]
    }
   ],
   "source": [
    "# shape of data should be : (num_obs, feature_dimension, sequence_length)\n",
    "train_X = np.reshape(train_X, (train_X.shape[0], 1, train_X.shape[1]))\n",
    "test_X = np.reshape(test_X, (test_X.shape[0], 1, test_X.shape[1]))\n",
    "\n",
    "print(\"New training data shape:\")\n",
    "print(train_X.shape)"
   ]
  },
  {
   "cell_type": "code",
   "execution_count": 42,
   "metadata": {
    "colab": {},
    "colab_type": "code",
    "id": "qW56cGGL1oNF",
    "outputId": "7cd98452-8003-4f76-b885-8e34685bcbb9"
   },
   "outputs": [
    {
     "name": "stdout",
     "output_type": "stream",
     "text": [
      "Epoch 1/50\n",
      " - 0s - loss: 0.0975\n",
      "Epoch 2/50\n",
      " - 0s - loss: 0.0761\n",
      "Epoch 3/50\n",
      " - 0s - loss: 0.0615\n",
      "Epoch 4/50\n",
      " - 0s - loss: 0.0521\n",
      "Epoch 5/50\n",
      " - 0s - loss: 0.0454\n",
      "Epoch 6/50\n",
      " - 0s - loss: 0.0415\n",
      "Epoch 7/50\n",
      " - 0s - loss: 0.0400\n",
      "Epoch 8/50\n",
      " - 0s - loss: 0.0380\n",
      "Epoch 9/50\n",
      " - 0s - loss: 0.0371\n",
      "Epoch 10/50\n",
      " - 0s - loss: 0.0366\n",
      "Epoch 11/50\n",
      " - 0s - loss: 0.0359\n",
      "Epoch 12/50\n",
      " - 0s - loss: 0.0354\n",
      "Epoch 13/50\n",
      " - 0s - loss: 0.0351\n",
      "Epoch 14/50\n",
      " - 0s - loss: 0.0345\n",
      "Epoch 15/50\n",
      " - 0s - loss: 0.0341\n",
      "Epoch 16/50\n",
      " - 0s - loss: 0.0337\n",
      "Epoch 17/50\n",
      " - 0s - loss: 0.0338\n",
      "Epoch 18/50\n",
      " - 0s - loss: 0.0331\n",
      "Epoch 19/50\n",
      " - 0s - loss: 0.0326\n",
      "Epoch 20/50\n",
      " - 0s - loss: 0.0324\n",
      "Epoch 21/50\n",
      " - 0s - loss: 0.0321\n",
      "Epoch 22/50\n",
      " - 0s - loss: 0.0318\n",
      "Epoch 23/50\n",
      " - 0s - loss: 0.0313\n",
      "Epoch 24/50\n",
      " - 0s - loss: 0.0309\n",
      "Epoch 25/50\n",
      " - 0s - loss: 0.0307\n",
      "Epoch 26/50\n",
      " - 0s - loss: 0.0305\n",
      "Epoch 27/50\n",
      " - 0s - loss: 0.0301\n",
      "Epoch 28/50\n",
      " - 0s - loss: 0.0297\n",
      "Epoch 29/50\n",
      " - 0s - loss: 0.0294\n",
      "Epoch 30/50\n",
      " - 0s - loss: 0.0290\n",
      "Epoch 31/50\n",
      " - 0s - loss: 0.0289\n",
      "Epoch 32/50\n",
      " - 0s - loss: 0.0286\n",
      "Epoch 33/50\n",
      " - 0s - loss: 0.0283\n",
      "Epoch 34/50\n",
      " - 0s - loss: 0.0282\n",
      "Epoch 35/50\n",
      " - 0s - loss: 0.0278\n",
      "Epoch 36/50\n",
      " - 0s - loss: 0.0276\n",
      "Epoch 37/50\n",
      " - 0s - loss: 0.0270\n",
      "Epoch 38/50\n",
      " - 0s - loss: 0.0268\n",
      "Epoch 39/50\n",
      " - 0s - loss: 0.0266\n",
      "Epoch 40/50\n",
      " - 0s - loss: 0.0263\n",
      "Epoch 41/50\n",
      " - 0s - loss: 0.0260\n",
      "Epoch 42/50\n",
      " - 0s - loss: 0.0257\n",
      "Epoch 43/50\n",
      " - 0s - loss: 0.0254\n",
      "Epoch 44/50\n",
      " - 0s - loss: 0.0252\n",
      "Epoch 45/50\n",
      " - 0s - loss: 0.0251\n",
      "Epoch 46/50\n",
      " - 0s - loss: 0.0249\n",
      "Epoch 47/50\n",
      " - 0s - loss: 0.0245\n",
      "Epoch 48/50\n",
      " - 0s - loss: 0.0241\n",
      "Epoch 49/50\n",
      " - 0s - loss: 0.0239\n",
      "Epoch 50/50\n",
      " - 0s - loss: 0.0238\n"
     ]
    },
    {
     "data": {
      "text/plain": [
       "<keras.callbacks.callbacks.History at 0x1d033587128>"
      ]
     },
     "execution_count": 42,
     "metadata": {},
     "output_type": "execute_result"
    }
   ],
   "source": [
    "# input shape : (feature_dimension, seq_length)\n",
    "model = Sequential()\n",
    "    \n",
    "model.add(LSTM(4, \n",
    "               input_shape = (1, window_size)))\n",
    "model.add(Dense(1))\n",
    "model.compile(loss = \"mean_squared_error\", \n",
    "              optimizer = \"adam\")\n",
    "\n",
    "model.fit(train_X, \n",
    "          train_Y, \n",
    "          epochs = 50, \n",
    "          batch_size = 1, \n",
    "          verbose = 2)"
   ]
  },
  {
   "cell_type": "code",
   "execution_count": 43,
   "metadata": {
    "colab": {},
    "colab_type": "code",
    "id": "HEmQQhw21oNN"
   },
   "outputs": [],
   "source": [
    "# Make predictions on the original scale of the data.\n",
    "pred = scaler.inverse_transform(model.predict(train_X))\n",
    "\n",
    "# Prepare Y data to also be on the original scale for interpretability.\n",
    "orig_data = scaler.inverse_transform([train_Y])\n",
    "\n",
    "# Calculate RMSE.\n",
    "score_test = np.sqrt(mean_squared_error(orig_data[0], pred[:, 0]))"
   ]
  },
  {
   "cell_type": "code",
   "execution_count": 44,
   "metadata": {},
   "outputs": [
    {
     "data": {
      "text/plain": [
       "array([[166.23,  73.75, 282.46, 122.71,  32.04,  40.73,  55.06,  46.4 ,\n",
       "         54.46,  29.97,  40.43,  21.36,  46.59,  43.11,  55.62,  27.36,\n",
       "         50.94, 116.61,  91.8 , 198.32, 326.76, 266.69, 205.95, 149.42,\n",
       "        233.22,  63.63,  89.77, 255.79, 161.08, 123.41, 239.69, 108.12,\n",
       "         94.31, 224.3 , 184.75, 113.74, 146.06]])"
      ]
     },
     "execution_count": 44,
     "metadata": {},
     "output_type": "execute_result"
    }
   ],
   "source": [
    "orig_data"
   ]
  },
  {
   "cell_type": "code",
   "execution_count": 48,
   "metadata": {},
   "outputs": [
    {
     "data": {
      "text/plain": [
       "array([[129.53839 ],\n",
       "       [130.06337 ],\n",
       "       [144.01283 ],\n",
       "       [132.7648  ],\n",
       "       [128.75562 ],\n",
       "       [103.564026],\n",
       "       [136.01582 ],\n",
       "       [ 97.540924],\n",
       "       [ 97.37693 ],\n",
       "       [102.67657 ],\n",
       "       [ 67.079216],\n",
       "       [ 68.971375],\n",
       "       [ 60.48803 ],\n",
       "       [ 85.51859 ],\n",
       "       [ 96.77779 ],\n",
       "       [ 95.721115],\n",
       "       [ 91.2488  ],\n",
       "       [ 93.52977 ],\n",
       "       [112.16014 ],\n",
       "       [122.0339  ],\n",
       "       [145.66673 ],\n",
       "       [195.07771 ],\n",
       "       [198.68085 ],\n",
       "       [201.65526 ],\n",
       "       [187.35593 ],\n",
       "       [168.2193  ],\n",
       "       [161.36444 ],\n",
       "       [139.49315 ],\n",
       "       [141.60788 ],\n",
       "       [121.472115],\n",
       "       [117.59842 ],\n",
       "       [152.62762 ],\n",
       "       [113.438644],\n",
       "       [130.22234 ],\n",
       "       [168.77235 ],\n",
       "       [141.31119 ],\n",
       "       [138.10355 ]], dtype=float32)"
      ]
     },
     "execution_count": 48,
     "metadata": {},
     "output_type": "execute_result"
    }
   ],
   "source": [
    "pred"
   ]
  },
  {
   "cell_type": "code",
   "execution_count": 50,
   "metadata": {
    "colab": {},
    "colab_type": "code",
    "id": "WUKBLmrg1oNh",
    "outputId": "f5a5015a-105d-4c41-b4ab-634281db8acf"
   },
   "outputs": [
    {
     "name": "stdout",
     "output_type": "stream",
     "text": [
      "Test data score:  68.3939538463071\n"
     ]
    }
   ],
   "source": [
    "#print(\"Training data score: \",  score_train)\n",
    "print(\"Test data score: \",  score_test)"
   ]
  },
  {
   "cell_type": "code",
   "execution_count": 66,
   "metadata": {
    "colab": {},
    "colab_type": "code",
    "id": "U6nfHa4N1oNp"
   },
   "outputs": [],
   "source": [
    "pd.DataFrame(pred).to_csv(\"predict_feature.csv\", index=False)"
   ]
  },
  {
   "cell_type": "code",
   "execution_count": null,
   "metadata": {},
   "outputs": [],
   "source": []
  }
 ],
 "metadata": {
  "colab": {
   "include_colab_link": true,
   "name": "terrablue_lstm.ipynb",
   "provenance": []
  },
  "kernelspec": {
   "display_name": "Python 3",
   "language": "python",
   "name": "python3"
  },
  "language_info": {
   "codemirror_mode": {
    "name": "ipython",
    "version": 3
   },
   "file_extension": ".py",
   "mimetype": "text/x-python",
   "name": "python",
   "nbconvert_exporter": "python",
   "pygments_lexer": "ipython3",
   "version": "3.7.3"
  }
 },
 "nbformat": 4,
 "nbformat_minor": 1
}
